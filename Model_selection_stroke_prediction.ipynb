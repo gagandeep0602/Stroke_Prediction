{
 "cells": [
  {
   "cell_type": "code",
   "execution_count": 16,
   "metadata": {},
   "outputs": [],
   "source": [
    "import pandas as pd\n",
    "import numpy as np\n",
    "import seaborn as sns\n",
    "import matplotlib.pyplot as plt\n",
    "%matplotlib inline\n"
   ]
  },
  {
   "cell_type": "code",
   "execution_count": 17,
   "metadata": {},
   "outputs": [],
   "source": [
    "data=pd.read_csv('data_without_scaling')"
   ]
  },
  {
   "cell_type": "code",
   "execution_count": 18,
   "metadata": {},
   "outputs": [
    {
     "data": {
      "text/html": [
       "<div>\n",
       "<style scoped>\n",
       "    .dataframe tbody tr th:only-of-type {\n",
       "        vertical-align: middle;\n",
       "    }\n",
       "\n",
       "    .dataframe tbody tr th {\n",
       "        vertical-align: top;\n",
       "    }\n",
       "\n",
       "    .dataframe thead th {\n",
       "        text-align: right;\n",
       "    }\n",
       "</style>\n",
       "<table border=\"1\" class=\"dataframe\">\n",
       "  <thead>\n",
       "    <tr style=\"text-align: right;\">\n",
       "      <th></th>\n",
       "      <th>Unnamed: 0</th>\n",
       "      <th>gender</th>\n",
       "      <th>age</th>\n",
       "      <th>hypertension</th>\n",
       "      <th>heart_disease</th>\n",
       "      <th>ever_married</th>\n",
       "      <th>work_type</th>\n",
       "      <th>Residence_type</th>\n",
       "      <th>avg_glucose_level</th>\n",
       "      <th>bmi</th>\n",
       "      <th>smoking_status</th>\n",
       "      <th>stroke</th>\n",
       "    </tr>\n",
       "  </thead>\n",
       "  <tbody>\n",
       "    <tr>\n",
       "      <th>0</th>\n",
       "      <td>0</td>\n",
       "      <td>1</td>\n",
       "      <td>67.0</td>\n",
       "      <td>0</td>\n",
       "      <td>1</td>\n",
       "      <td>1</td>\n",
       "      <td>2</td>\n",
       "      <td>1</td>\n",
       "      <td>228.69</td>\n",
       "      <td>36.6</td>\n",
       "      <td>1</td>\n",
       "      <td>1</td>\n",
       "    </tr>\n",
       "    <tr>\n",
       "      <th>1</th>\n",
       "      <td>1</td>\n",
       "      <td>0</td>\n",
       "      <td>61.0</td>\n",
       "      <td>0</td>\n",
       "      <td>0</td>\n",
       "      <td>1</td>\n",
       "      <td>3</td>\n",
       "      <td>0</td>\n",
       "      <td>202.21</td>\n",
       "      <td>28.1</td>\n",
       "      <td>2</td>\n",
       "      <td>1</td>\n",
       "    </tr>\n",
       "    <tr>\n",
       "      <th>2</th>\n",
       "      <td>2</td>\n",
       "      <td>1</td>\n",
       "      <td>80.0</td>\n",
       "      <td>0</td>\n",
       "      <td>1</td>\n",
       "      <td>1</td>\n",
       "      <td>2</td>\n",
       "      <td>0</td>\n",
       "      <td>105.92</td>\n",
       "      <td>32.5</td>\n",
       "      <td>2</td>\n",
       "      <td>1</td>\n",
       "    </tr>\n",
       "    <tr>\n",
       "      <th>3</th>\n",
       "      <td>3</td>\n",
       "      <td>0</td>\n",
       "      <td>49.0</td>\n",
       "      <td>0</td>\n",
       "      <td>0</td>\n",
       "      <td>1</td>\n",
       "      <td>2</td>\n",
       "      <td>1</td>\n",
       "      <td>171.23</td>\n",
       "      <td>34.4</td>\n",
       "      <td>3</td>\n",
       "      <td>1</td>\n",
       "    </tr>\n",
       "    <tr>\n",
       "      <th>4</th>\n",
       "      <td>4</td>\n",
       "      <td>0</td>\n",
       "      <td>79.0</td>\n",
       "      <td>1</td>\n",
       "      <td>0</td>\n",
       "      <td>1</td>\n",
       "      <td>3</td>\n",
       "      <td>0</td>\n",
       "      <td>174.12</td>\n",
       "      <td>24.0</td>\n",
       "      <td>2</td>\n",
       "      <td>1</td>\n",
       "    </tr>\n",
       "  </tbody>\n",
       "</table>\n",
       "</div>"
      ],
      "text/plain": [
       "   Unnamed: 0  gender   age  hypertension  heart_disease  ever_married  \\\n",
       "0           0       1  67.0             0              1             1   \n",
       "1           1       0  61.0             0              0             1   \n",
       "2           2       1  80.0             0              1             1   \n",
       "3           3       0  49.0             0              0             1   \n",
       "4           4       0  79.0             1              0             1   \n",
       "\n",
       "   work_type  Residence_type  avg_glucose_level   bmi  smoking_status  stroke  \n",
       "0          2               1             228.69  36.6               1       1  \n",
       "1          3               0             202.21  28.1               2       1  \n",
       "2          2               0             105.92  32.5               2       1  \n",
       "3          2               1             171.23  34.4               3       1  \n",
       "4          3               0             174.12  24.0               2       1  "
      ]
     },
     "execution_count": 18,
     "metadata": {},
     "output_type": "execute_result"
    }
   ],
   "source": [
    "data.head()"
   ]
  },
  {
   "cell_type": "code",
   "execution_count": 19,
   "metadata": {},
   "outputs": [],
   "source": [
    "data.drop('Unnamed: 0',axis=1,inplace=True)"
   ]
  },
  {
   "cell_type": "markdown",
   "metadata": {},
   "source": [
    "Random Forest Classifier"
   ]
  },
  {
   "cell_type": "code",
   "execution_count": 20,
   "metadata": {},
   "outputs": [],
   "source": [
    "#independent feature\n",
    "Y=data['stroke']"
   ]
  },
  {
   "cell_type": "code",
   "execution_count": 21,
   "metadata": {},
   "outputs": [],
   "source": [
    "data.drop('stroke',axis=1,inplace=True)"
   ]
  },
  {
   "cell_type": "code",
   "execution_count": 22,
   "metadata": {},
   "outputs": [
    {
     "data": {
      "text/html": [
       "<div>\n",
       "<style scoped>\n",
       "    .dataframe tbody tr th:only-of-type {\n",
       "        vertical-align: middle;\n",
       "    }\n",
       "\n",
       "    .dataframe tbody tr th {\n",
       "        vertical-align: top;\n",
       "    }\n",
       "\n",
       "    .dataframe thead th {\n",
       "        text-align: right;\n",
       "    }\n",
       "</style>\n",
       "<table border=\"1\" class=\"dataframe\">\n",
       "  <thead>\n",
       "    <tr style=\"text-align: right;\">\n",
       "      <th></th>\n",
       "      <th>gender</th>\n",
       "      <th>age</th>\n",
       "      <th>hypertension</th>\n",
       "      <th>heart_disease</th>\n",
       "      <th>ever_married</th>\n",
       "      <th>work_type</th>\n",
       "      <th>Residence_type</th>\n",
       "      <th>avg_glucose_level</th>\n",
       "      <th>bmi</th>\n",
       "      <th>smoking_status</th>\n",
       "    </tr>\n",
       "  </thead>\n",
       "  <tbody>\n",
       "    <tr>\n",
       "      <th>0</th>\n",
       "      <td>1</td>\n",
       "      <td>67.0</td>\n",
       "      <td>0</td>\n",
       "      <td>1</td>\n",
       "      <td>1</td>\n",
       "      <td>2</td>\n",
       "      <td>1</td>\n",
       "      <td>228.69</td>\n",
       "      <td>36.6</td>\n",
       "      <td>1</td>\n",
       "    </tr>\n",
       "    <tr>\n",
       "      <th>1</th>\n",
       "      <td>0</td>\n",
       "      <td>61.0</td>\n",
       "      <td>0</td>\n",
       "      <td>0</td>\n",
       "      <td>1</td>\n",
       "      <td>3</td>\n",
       "      <td>0</td>\n",
       "      <td>202.21</td>\n",
       "      <td>28.1</td>\n",
       "      <td>2</td>\n",
       "    </tr>\n",
       "    <tr>\n",
       "      <th>2</th>\n",
       "      <td>1</td>\n",
       "      <td>80.0</td>\n",
       "      <td>0</td>\n",
       "      <td>1</td>\n",
       "      <td>1</td>\n",
       "      <td>2</td>\n",
       "      <td>0</td>\n",
       "      <td>105.92</td>\n",
       "      <td>32.5</td>\n",
       "      <td>2</td>\n",
       "    </tr>\n",
       "    <tr>\n",
       "      <th>3</th>\n",
       "      <td>0</td>\n",
       "      <td>49.0</td>\n",
       "      <td>0</td>\n",
       "      <td>0</td>\n",
       "      <td>1</td>\n",
       "      <td>2</td>\n",
       "      <td>1</td>\n",
       "      <td>171.23</td>\n",
       "      <td>34.4</td>\n",
       "      <td>3</td>\n",
       "    </tr>\n",
       "    <tr>\n",
       "      <th>4</th>\n",
       "      <td>0</td>\n",
       "      <td>79.0</td>\n",
       "      <td>1</td>\n",
       "      <td>0</td>\n",
       "      <td>1</td>\n",
       "      <td>3</td>\n",
       "      <td>0</td>\n",
       "      <td>174.12</td>\n",
       "      <td>24.0</td>\n",
       "      <td>2</td>\n",
       "    </tr>\n",
       "  </tbody>\n",
       "</table>\n",
       "</div>"
      ],
      "text/plain": [
       "   gender   age  hypertension  heart_disease  ever_married  work_type  \\\n",
       "0       1  67.0             0              1             1          2   \n",
       "1       0  61.0             0              0             1          3   \n",
       "2       1  80.0             0              1             1          2   \n",
       "3       0  49.0             0              0             1          2   \n",
       "4       0  79.0             1              0             1          3   \n",
       "\n",
       "   Residence_type  avg_glucose_level   bmi  smoking_status  \n",
       "0               1             228.69  36.6               1  \n",
       "1               0             202.21  28.1               2  \n",
       "2               0             105.92  32.5               2  \n",
       "3               1             171.23  34.4               3  \n",
       "4               0             174.12  24.0               2  "
      ]
     },
     "execution_count": 22,
     "metadata": {},
     "output_type": "execute_result"
    }
   ],
   "source": [
    "data.head()"
   ]
  },
  {
   "cell_type": "code",
   "execution_count": 23,
   "metadata": {},
   "outputs": [],
   "source": [
    "from sklearn.model_selection import train_test_split\n",
    "X_train, X_test, y_train, y_test = train_test_split(data, Y, test_size=0.33, random_state=42)"
   ]
  },
  {
   "cell_type": "code",
   "execution_count": 24,
   "metadata": {},
   "outputs": [
    {
     "data": {
      "text/plain": [
       "(3423, 10)"
      ]
     },
     "execution_count": 24,
     "metadata": {},
     "output_type": "execute_result"
    }
   ],
   "source": [
    "X_train.shape"
   ]
  },
  {
   "cell_type": "code",
   "execution_count": 25,
   "metadata": {},
   "outputs": [],
   "source": [
    "from sklearn import ensemble\n",
    "from sklearn import datasets\n",
    "from sklearn import model_selection\n",
    "from sklearn.model_selection import cross_val_score\n",
    "from sklearn.ensemble import RandomForestClassifier\n",
    "import optuna"
   ]
  },
  {
   "cell_type": "code",
   "execution_count": 31,
   "metadata": {},
   "outputs": [],
   "source": [
    "#hyperparameters for optuna\n",
    "def objective(trial) :\n",
    "    criterions = trial.suggest_categorical('criterion', [\"gini\", \"entropy\"])\n",
    "    max_depths = trial.suggest_int('max_depth', 100,1000,10)\n",
    "    n_estimators = trial.suggest_int('n_estimators', 100,1000,10)\n",
    "    min_samples_split=trial.suggest_int('min_samples_split',2,10,1)\n",
    "    min_samples_leaf=trial.suggest_int('min_samples_leaf',1,10,1)\n",
    "    \n",
    "    clf=RandomForestClassifier(n_estimators=n_estimators,\n",
    "                                 criterion=criterions,\n",
    "                                 max_depth=max_depths,\n",
    "                                 min_samples_leaf=min_samples_leaf,\n",
    "                                 min_samples_split=min_samples_split,            \n",
    "                                 n_jobs=-1)\n",
    "    score = cross_val_score(clf, X_train, y_train, scoring=\"accuracy\",cv=3).mean()\n",
    "    return score"
   ]
  },
  {
   "cell_type": "code",
   "execution_count": 32,
   "metadata": {},
   "outputs": [
    {
     "name": "stderr",
     "output_type": "stream",
     "text": [
      "\u001b[32m[I 2021-06-02 20:05:30,957]\u001b[0m A new study created in memory with name: no-name-32c68597-1fd6-4d1b-a9d4-86b5b354a0b1\u001b[0m\n",
      "\u001b[32m[I 2021-06-02 20:05:31,540]\u001b[0m Trial 0 finished with value: 0.9553023663453112 and parameters: {'criterion': 'gini', 'max_depth': 610, 'n_estimators': 100, 'min_samples_split': 9, 'min_samples_leaf': 2}. Best is trial 0 with value: 0.9553023663453112.\u001b[0m\n",
      "\u001b[32m[I 2021-06-02 20:05:34,861]\u001b[0m Trial 1 finished with value: 0.9553023663453112 and parameters: {'criterion': 'gini', 'max_depth': 120, 'n_estimators': 800, 'min_samples_split': 6, 'min_samples_leaf': 3}. Best is trial 0 with value: 0.9553023663453112.\u001b[0m\n",
      "\u001b[32m[I 2021-06-02 20:05:38,585]\u001b[0m Trial 2 finished with value: 0.9553023663453112 and parameters: {'criterion': 'entropy', 'max_depth': 930, 'n_estimators': 820, 'min_samples_split': 8, 'min_samples_leaf': 2}. Best is trial 0 with value: 0.9553023663453112.\u001b[0m\n",
      "\u001b[32m[I 2021-06-02 20:05:40,823]\u001b[0m Trial 3 finished with value: 0.9550102249488752 and parameters: {'criterion': 'gini', 'max_depth': 880, 'n_estimators': 510, 'min_samples_split': 7, 'min_samples_leaf': 1}. Best is trial 0 with value: 0.9553023663453112.\u001b[0m\n",
      "\u001b[32m[I 2021-06-02 20:05:44,619]\u001b[0m Trial 4 finished with value: 0.9553023663453112 and parameters: {'criterion': 'gini', 'max_depth': 860, 'n_estimators': 930, 'min_samples_split': 10, 'min_samples_leaf': 1}. Best is trial 0 with value: 0.9553023663453112.\u001b[0m\n",
      "\u001b[32m[I 2021-06-02 20:05:47,735]\u001b[0m Trial 5 finished with value: 0.9547180835524394 and parameters: {'criterion': 'entropy', 'max_depth': 160, 'n_estimators': 650, 'min_samples_split': 2, 'min_samples_leaf': 1}. Best is trial 0 with value: 0.9553023663453112.\u001b[0m\n",
      "\u001b[32m[I 2021-06-02 20:05:50,099]\u001b[0m Trial 6 finished with value: 0.9553023663453112 and parameters: {'criterion': 'entropy', 'max_depth': 820, 'n_estimators': 510, 'min_samples_split': 7, 'min_samples_leaf': 1}. Best is trial 0 with value: 0.9553023663453112.\u001b[0m\n",
      "\u001b[32m[I 2021-06-02 20:05:52,459]\u001b[0m Trial 7 finished with value: 0.9553023663453112 and parameters: {'criterion': 'entropy', 'max_depth': 110, 'n_estimators': 460, 'min_samples_split': 5, 'min_samples_leaf': 3}. Best is trial 0 with value: 0.9553023663453112.\u001b[0m\n",
      "\u001b[32m[I 2021-06-02 20:05:54,336]\u001b[0m Trial 8 finished with value: 0.9553023663453112 and parameters: {'criterion': 'entropy', 'max_depth': 440, 'n_estimators': 350, 'min_samples_split': 9, 'min_samples_leaf': 2}. Best is trial 0 with value: 0.9553023663453112.\u001b[0m\n",
      "\u001b[32m[I 2021-06-02 20:05:57,622]\u001b[0m Trial 9 finished with value: 0.9553023663453112 and parameters: {'criterion': 'entropy', 'max_depth': 760, 'n_estimators': 690, 'min_samples_split': 8, 'min_samples_leaf': 4}. Best is trial 0 with value: 0.9553023663453112.\u001b[0m\n",
      "\u001b[32m[I 2021-06-02 20:05:58,383]\u001b[0m Trial 10 finished with value: 0.9553023663453112 and parameters: {'criterion': 'gini', 'max_depth': 560, 'n_estimators': 150, 'min_samples_split': 4, 'min_samples_leaf': 9}. Best is trial 0 with value: 0.9553023663453112.\u001b[0m\n",
      "\u001b[32m[I 2021-06-02 20:05:58,900]\u001b[0m Trial 11 finished with value: 0.9553023663453112 and parameters: {'criterion': 'gini', 'max_depth': 450, 'n_estimators': 100, 'min_samples_split': 3, 'min_samples_leaf': 6}. Best is trial 0 with value: 0.9553023663453112.\u001b[0m\n",
      "\u001b[32m[I 2021-06-02 20:06:03,084]\u001b[0m Trial 12 finished with value: 0.9553023663453112 and parameters: {'criterion': 'gini', 'max_depth': 630, 'n_estimators': 980, 'min_samples_split': 10, 'min_samples_leaf': 5}. Best is trial 0 with value: 0.9553023663453112.\u001b[0m\n",
      "\u001b[32m[I 2021-06-02 20:06:04,407]\u001b[0m Trial 13 finished with value: 0.9553023663453112 and parameters: {'criterion': 'gini', 'max_depth': 280, 'n_estimators': 290, 'min_samples_split': 6, 'min_samples_leaf': 7}. Best is trial 0 with value: 0.9553023663453112.\u001b[0m\n",
      "\u001b[32m[I 2021-06-02 20:06:08,075]\u001b[0m Trial 14 finished with value: 0.9553023663453112 and parameters: {'criterion': 'gini', 'max_depth': 350, 'n_estimators': 790, 'min_samples_split': 5, 'min_samples_leaf': 4}. Best is trial 0 with value: 0.9553023663453112.\u001b[0m\n",
      "\u001b[32m[I 2021-06-02 20:06:12,042]\u001b[0m Trial 15 finished with value: 0.9553023663453112 and parameters: {'criterion': 'gini', 'max_depth': 690, 'n_estimators': 850, 'min_samples_split': 9, 'min_samples_leaf': 3}. Best is trial 0 with value: 0.9553023663453112.\u001b[0m\n",
      "\u001b[32m[I 2021-06-02 20:06:14,941]\u001b[0m Trial 16 finished with value: 0.9553023663453112 and parameters: {'criterion': 'gini', 'max_depth': 500, 'n_estimators': 650, 'min_samples_split': 6, 'min_samples_leaf': 3}. Best is trial 0 with value: 0.9553023663453112.\u001b[0m\n",
      "\u001b[32m[I 2021-06-02 20:06:15,993]\u001b[0m Trial 17 finished with value: 0.9553023663453112 and parameters: {'criterion': 'gini', 'max_depth': 300, 'n_estimators': 210, 'min_samples_split': 4, 'min_samples_leaf': 5}. Best is trial 0 with value: 0.9553023663453112.\u001b[0m\n",
      "\u001b[32m[I 2021-06-02 20:06:20,155]\u001b[0m Trial 18 finished with value: 0.9553023663453112 and parameters: {'criterion': 'gini', 'max_depth': 710, 'n_estimators': 910, 'min_samples_split': 9, 'min_samples_leaf': 7}. Best is trial 0 with value: 0.9553023663453112.\u001b[0m\n",
      "\u001b[32m[I 2021-06-02 20:06:22,837]\u001b[0m Trial 19 finished with value: 0.9553023663453112 and parameters: {'criterion': 'gini', 'max_depth': 510, 'n_estimators': 620, 'min_samples_split': 7, 'min_samples_leaf': 2}. Best is trial 0 with value: 0.9553023663453112.\u001b[0m\n"
     ]
    }
   ],
   "source": [
    "study = optuna.create_study(direction=\"maximize\")\n",
    "study.optimize(objective, n_trials=20)\n",
    "trial = study.best_trial"
   ]
  },
  {
   "cell_type": "code",
   "execution_count": 33,
   "metadata": {},
   "outputs": [
    {
     "data": {
      "text/plain": [
       "{'criterion': 'gini',\n",
       " 'max_depth': 610,\n",
       " 'n_estimators': 100,\n",
       " 'min_samples_split': 9,\n",
       " 'min_samples_leaf': 2}"
      ]
     },
     "execution_count": 33,
     "metadata": {},
     "output_type": "execute_result"
    }
   ],
   "source": [
    "study.best_params"
   ]
  },
  {
   "cell_type": "code",
   "execution_count": 34,
   "metadata": {},
   "outputs": [
    {
     "data": {
      "text/plain": [
       "RandomForestClassifier(max_depth=610, min_samples_leaf=2, min_samples_split=9)"
      ]
     },
     "execution_count": 34,
     "metadata": {},
     "output_type": "execute_result"
    }
   ],
   "source": [
    "rf=RandomForestClassifier(n_estimators=100,max_depth=610,criterion='gini',min_samples_split=9,min_samples_leaf=2)\n",
    "rf.fit(X_train,y_train)"
   ]
  },
  {
   "cell_type": "code",
   "execution_count": 36,
   "metadata": {},
   "outputs": [
    {
     "name": "stdout",
     "output_type": "stream",
     "text": [
      "0.943094250148192\n"
     ]
    }
   ],
   "source": [
    "from sklearn.metrics import confusion_matrix,classification_report,accuracy_score\n",
    "y_pred=rf.predict(X_test)\n",
    "print(accuracy_score(y_test,y_pred))\n"
   ]
  },
  {
   "cell_type": "markdown",
   "metadata": {},
   "source": [
    "XGBoost\n"
   ]
  },
  {
   "cell_type": "code",
   "execution_count": 38,
   "metadata": {},
   "outputs": [],
   "source": [
    "import xgboost"
   ]
  },
  {
   "cell_type": "code",
   "execution_count": 67,
   "metadata": {},
   "outputs": [
    {
     "name": "stdout",
     "output_type": "stream",
     "text": [
      "[20:45:35] WARNING: ../src/learner.cc:1095: Starting in XGBoost 1.3.0, the default evaluation metric used with the objective 'binary:logistic' was changed from 'error' to 'logloss'. Explicitly set eval_metric if you'd like to restore the old behavior.\n",
      "0.9389448725548311\n"
     ]
    }
   ],
   "source": [
    "classifier=xgboost.XGBClassifier()\n",
    "classifier.fit(X_train,y_train)\n",
    "y_pred=classifier.predict(X_test)\n",
    "print(accuracy_score(y_test,y_pred))"
   ]
  },
  {
   "cell_type": "code",
   "execution_count": 48,
   "metadata": {},
   "outputs": [
    {
     "data": {
      "text/plain": [
       "array([0.95267309, 0.94390885, 0.94303243])"
      ]
     },
     "execution_count": 48,
     "metadata": {},
     "output_type": "execute_result"
    }
   ],
   "source": [
    "score"
   ]
  },
  {
   "cell_type": "code",
   "execution_count": 49,
   "metadata": {},
   "outputs": [
    {
     "data": {
      "text/plain": [
       "0.946538124452235"
      ]
     },
     "execution_count": 49,
     "metadata": {},
     "output_type": "execute_result"
    }
   ],
   "source": [
    "score.mean()"
   ]
  },
  {
   "cell_type": "code",
   "execution_count": 50,
   "metadata": {},
   "outputs": [],
   "source": [
    "#hyperparameter optimisation\n",
    "params={\n",
    " \"learning_rate\"    : [0.05, 0.10, 0.15, 0.20, 0.25, 0.30 ] ,\n",
    " \"max_depth\"        : [ 3, 4, 5, 6, 8, 10, 12, 15],\n",
    " \"min_child_weight\" : [ 1, 3, 5, 7 ],\n",
    " \"gamma\"            : [ 0.0, 0.1, 0.2 , 0.3, 0.4 ],\n",
    " \"colsample_bytree\" : [ 0.3, 0.4, 0.5 , 0.7 ]\n",
    "    \n",
    "}"
   ]
  },
  {
   "cell_type": "code",
   "execution_count": 51,
   "metadata": {},
   "outputs": [],
   "source": [
    "random_search=RandomizedSearchCV(classifier,param_distributions=params,n_iter=5,scoring='roc_auc',n_jobs=-1,cv=5,verbose=3)"
   ]
  },
  {
   "cell_type": "code",
   "execution_count": 53,
   "metadata": {},
   "outputs": [
    {
     "name": "stdout",
     "output_type": "stream",
     "text": [
      "Fitting 5 folds for each of 5 candidates, totalling 25 fits\n"
     ]
    },
    {
     "name": "stderr",
     "output_type": "stream",
     "text": [
      "[Parallel(n_jobs=-1)]: Using backend LokyBackend with 4 concurrent workers.\n",
      "[Parallel(n_jobs=-1)]: Done  25 out of  25 | elapsed:    6.9s finished\n",
      "/home/moglix/anaconda3/lib/python3.8/site-packages/xgboost/sklearn.py:1146: UserWarning: The use of label encoder in XGBClassifier is deprecated and will be removed in a future release. To remove this warning, do the following: 1) Pass option use_label_encoder=False when constructing XGBClassifier object; and 2) Encode your labels (y) as integers starting with 0, i.e. 0, 1, 2, ..., [num_class - 1].\n",
      "  warnings.warn(label_encoder_deprecation_msg, UserWarning)\n"
     ]
    },
    {
     "name": "stdout",
     "output_type": "stream",
     "text": [
      "[20:36:20] WARNING: ../src/learner.cc:1095: Starting in XGBoost 1.3.0, the default evaluation metric used with the objective 'binary:logistic' was changed from 'error' to 'logloss'. Explicitly set eval_metric if you'd like to restore the old behavior.\n"
     ]
    },
    {
     "data": {
      "text/plain": [
       "RandomizedSearchCV(cv=5,\n",
       "                   estimator=XGBClassifier(base_score=None, booster=None,\n",
       "                                           colsample_bylevel=None,\n",
       "                                           colsample_bynode=None,\n",
       "                                           colsample_bytree=None, gamma=None,\n",
       "                                           gpu_id=None, importance_type='gain',\n",
       "                                           interaction_constraints=None,\n",
       "                                           learning_rate=None,\n",
       "                                           max_delta_step=None, max_depth=None,\n",
       "                                           min_child_weight=None, missing=nan,\n",
       "                                           monotone_constraints=None,\n",
       "                                           n_estimators=100,...\n",
       "                                           reg_lambda=None,\n",
       "                                           scale_pos_weight=None,\n",
       "                                           subsample=None, tree_method=None,\n",
       "                                           validate_parameters=None,\n",
       "                                           verbosity=None),\n",
       "                   n_iter=5, n_jobs=-1,\n",
       "                   param_distributions={'colsample_bytree': [0.3, 0.4, 0.5,\n",
       "                                                             0.7],\n",
       "                                        'gamma': [0.0, 0.1, 0.2, 0.3, 0.4],\n",
       "                                        'learning_rate': [0.05, 0.1, 0.15, 0.2,\n",
       "                                                          0.25, 0.3],\n",
       "                                        'max_depth': [3, 4, 5, 6, 8, 10, 12,\n",
       "                                                      15],\n",
       "                                        'min_child_weight': [1, 3, 5, 7]},\n",
       "                   scoring='roc_auc', verbose=3)"
      ]
     },
     "execution_count": 53,
     "metadata": {},
     "output_type": "execute_result"
    }
   ],
   "source": [
    "random_search.fit(X_train,y_train)"
   ]
  },
  {
   "cell_type": "code",
   "execution_count": 57,
   "metadata": {},
   "outputs": [
    {
     "data": {
      "text/plain": [
       "{'min_child_weight': 7,\n",
       " 'max_depth': 4,\n",
       " 'learning_rate': 0.05,\n",
       " 'gamma': 0.2,\n",
       " 'colsample_bytree': 0.4}"
      ]
     },
     "execution_count": 57,
     "metadata": {},
     "output_type": "execute_result"
    }
   ],
   "source": [
    "\n",
    "random_search.best_params_"
   ]
  },
  {
   "cell_type": "code",
   "execution_count": 59,
   "metadata": {},
   "outputs": [],
   "source": [
    "classifier=xgboost.XGBClassifier(min_child_weight=7,max_depth=4,learning_rate=0.05,gamma=0.2,colsample_bytree=0.4)"
   ]
  },
  {
   "cell_type": "code",
   "execution_count": 64,
   "metadata": {},
   "outputs": [
    {
     "name": "stdout",
     "output_type": "stream",
     "text": [
      "[20:44:06] WARNING: ../src/learner.cc:1095: Starting in XGBoost 1.3.0, the default evaluation metric used with the objective 'binary:logistic' was changed from 'error' to 'logloss'. Explicitly set eval_metric if you'd like to restore the old behavior.\n"
     ]
    },
    {
     "data": {
      "text/plain": [
       "XGBClassifier(base_score=0.5, booster='gbtree', colsample_bylevel=1,\n",
       "              colsample_bynode=1, colsample_bytree=0.4, gamma=0.2, gpu_id=-1,\n",
       "              importance_type='gain', interaction_constraints='',\n",
       "              learning_rate=0.05, max_delta_step=0, max_depth=4,\n",
       "              min_child_weight=7, missing=nan, monotone_constraints='()',\n",
       "              n_estimators=100, n_jobs=4, num_parallel_tree=1, random_state=0,\n",
       "              reg_alpha=0, reg_lambda=1, scale_pos_weight=1, subsample=1,\n",
       "              tree_method='exact', validate_parameters=1, verbosity=None)"
      ]
     },
     "execution_count": 64,
     "metadata": {},
     "output_type": "execute_result"
    }
   ],
   "source": [
    "classifier.fit(X_train,y_train)"
   ]
  },
  {
   "cell_type": "code",
   "execution_count": 65,
   "metadata": {},
   "outputs": [],
   "source": [
    "y_pred=classifier.predict(X_test)"
   ]
  },
  {
   "cell_type": "code",
   "execution_count": 66,
   "metadata": {},
   "outputs": [
    {
     "name": "stdout",
     "output_type": "stream",
     "text": [
      "0.943094250148192\n"
     ]
    }
   ],
   "source": [
    "print(accuracy_score(y_test,y_pred))"
   ]
  },
  {
   "cell_type": "markdown",
   "metadata": {},
   "source": [
    "Observation :\n",
    "\n",
    "1. Due to less records after hyperparameter tuning small increase in accuracy is seen.\n",
    "\n",
    "2. Both models are performing good."
   ]
  },
  {
   "cell_type": "code",
   "execution_count": null,
   "metadata": {},
   "outputs": [],
   "source": []
  }
 ],
 "metadata": {
  "kernelspec": {
   "display_name": "Python 3",
   "language": "python",
   "name": "python3"
  },
  "language_info": {
   "codemirror_mode": {
    "name": "ipython",
    "version": 3
   },
   "file_extension": ".py",
   "mimetype": "text/x-python",
   "name": "python",
   "nbconvert_exporter": "python",
   "pygments_lexer": "ipython3",
   "version": "3.8.5"
  }
 },
 "nbformat": 4,
 "nbformat_minor": 4
}
